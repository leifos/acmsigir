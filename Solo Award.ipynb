{
 "cells": [
  {
   "cell_type": "code",
   "execution_count": 2,
   "metadata": {
    "collapsed": true
   },
   "outputs": [],
   "source": [
    "from utils import *\n",
    "\n",
    "SPIDS = ['511285','800096','511706','636669','511754','636713','511793','636805','253495','253168',\n",
    "         '42005','62437','75334','96749','122860','133160','160688','188490','215206','243199','258525','290941'\n",
    "        ,'312624','345508','383952','564376','860435','1008992','1076034','1148170','1277741','1390334',\n",
    "         '1571941','1835449','2009916','2348283','2484028','2600428','2766462','2911451','3077136']\n"
   ]
  },
  {
   "cell_type": "code",
   "execution_count": 10,
   "metadata": {},
   "outputs": [
    {
     "name": "stdout",
     "output_type": "stream",
     "text": [
      "http://dl.acm.org/author_page.cfm?id=81328489030 with 8 publications\n",
      "http://dl.acm.org/citation.cfm?id=636819\n",
      "http://dl.acm.org/citation.cfm?id=253522\n",
      "http://dl.acm.org/citation.cfm?id=253226\n",
      "http://dl.acm.org/citation.cfm?id=75338\n",
      "http://dl.acm.org/citation.cfm?id=122879\n",
      "http://dl.acm.org/citation.cfm?id=243266\n",
      "http://dl.acm.org/citation.cfm?id=258531\n",
      "http://dl.acm.org/citation.cfm?id=564461\n",
      "http://dl.acm.org/author_page.cfm?id=81339534035 with 9 publications\n",
      "http://dl.acm.org/citation.cfm?id=253524\n",
      "http://dl.acm.org/citation.cfm?id=253203\n",
      "http://dl.acm.org/citation.cfm?id=160715\n",
      "http://dl.acm.org/citation.cfm?id=188508\n",
      "http://dl.acm.org/citation.cfm?id=291017\n",
      "http://dl.acm.org/citation.cfm?id=383963\n",
      "http://dl.acm.org/citation.cfm?id=1009121\n",
      "http://dl.acm.org/citation.cfm?id=1572138\n",
      "http://dl.acm.org/citation.cfm?id=2609524\n",
      "http://dl.acm.org/author_page.cfm?id=81100362356 with 7 publications\n",
      "http://dl.acm.org/citation.cfm?id=253221\n",
      "http://dl.acm.org/citation.cfm?id=75343\n",
      "http://dl.acm.org/citation.cfm?id=133202\n",
      "http://dl.acm.org/citation.cfm?id=160754\n",
      "http://dl.acm.org/citation.cfm?id=238480\n",
      "http://dl.acm.org/citation.cfm?id=215372\n",
      "http://dl.acm.org/citation.cfm?id=243325\n",
      "http://dl.acm.org/author_page.cfm?id=81100193167 with 8 publications\n",
      "http://dl.acm.org/citation.cfm?id=860529\n",
      "http://dl.acm.org/citation.cfm?id=1148261\n",
      "http://dl.acm.org/citation.cfm?id=1148322\n",
      "http://dl.acm.org/citation.cfm?id=1277756\n",
      "http://dl.acm.org/citation.cfm?id=1390454\n",
      "http://dl.acm.org/citation.cfm?id=2348517\n",
      "http://dl.acm.org/citation.cfm?id=2911492\n",
      "http://dl.acm.org/citation.cfm?id=2914684\n"
     ]
    }
   ],
   "source": [
    "pc = 0\n",
    "x = []\n",
    "y = []\n",
    "\n",
    "solo_counts = {}\n",
    "solo_papers = {}\n",
    "for spid in SPIDS:\n",
    "    sigir_head_file = make_sp_name(spid)\n",
    "    papers = parse_out_papers(sigir_head_file, spid)\n",
    "    # for each paper in the proceedings, download the paper\n",
    "    for p in papers:\n",
    "        pid = get_paper_id(p)\n",
    "        paper_file = 'data/{0}.html'.format(pid)\n",
    "        pc += 1 \n",
    "        authors = extract_paper_authors(paper_file)\n",
    "        \n",
    "        l = len(authors)\n",
    "        \n",
    "        if len(authors)==1:\n",
    "            a = authors[0]\n",
    "            if a in solo_counts:\n",
    "                solo_counts[a] += 1\n",
    "            else:\n",
    "                solo_counts[a] = 1\n",
    "\n",
    "            if a in solo_papers:\n",
    "                solo_papers[a].append(pid)\n",
    "            else:\n",
    "                solo_papers[a] = [pid]\n",
    "                            \n",
    "for a in solo_counts:\n",
    "    if solo_counts[a] > 6:\n",
    "        print(\"http://dl.acm.org/author_page.cfm?id={0} with {1} publications\".format(a, solo_counts[a]))\n",
    "        for p in solo_papers[a]:\n",
    "            print(\"http://dl.acm.org/citation.cfm?id={0}\".format(p))"
   ]
  },
  {
   "cell_type": "code",
   "execution_count": null,
   "metadata": {
    "collapsed": true
   },
   "outputs": [],
   "source": []
  }
 ],
 "metadata": {
  "kernelspec": {
   "display_name": "Python 3",
   "language": "python",
   "name": "python3"
  },
  "language_info": {
   "codemirror_mode": {
    "name": "ipython",
    "version": 3
   },
   "file_extension": ".py",
   "mimetype": "text/x-python",
   "name": "python",
   "nbconvert_exporter": "python",
   "pygments_lexer": "ipython3",
   "version": "3.6.1"
  }
 },
 "nbformat": 4,
 "nbformat_minor": 2
}
