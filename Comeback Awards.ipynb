{
 "cells": [
  {
   "cell_type": "code",
   "execution_count": 3,
   "metadata": {
    "collapsed": true
   },
   "outputs": [],
   "source": [
    "# Comeback Award(s)\n",
    "from utils import *\n",
    "SPIDS = ['511285','800096','511706','636669','511754','636713','511793','636805','253495','253168',\n",
    "         '42005','62437','75334','96749','122860','133160','160688','188490','215206','243199','258525','290941'\n",
    "        ,'312624','345508','383952','564376','860435','1008992','1076034','1148170','1277741','1390334',\n",
    "         '1571941','1835449','2009916','2348283','2484028','2600428','2766462','2911451','3077136']\n"
   ]
  },
  {
   "cell_type": "code",
   "execution_count": 5,
   "metadata": {},
   "outputs": [
    {
     "name": "stdout",
     "output_type": "stream",
     "text": [
      "http://dl.acm.org/author_page.cfm?id=81100409020  with a span of 18 from/to: (1982, 2000)\n",
      "http://dl.acm.org/author_page.cfm?id=81100489485  with a span of 19 from/to: (1981, 2000)\n",
      "http://dl.acm.org/author_page.cfm?id=81100038060  with a span of 19 from/to: (1985, 2004)\n",
      "http://dl.acm.org/author_page.cfm?id=81100609693  with a span of 24 from/to: (1989, 2013)\n",
      "http://dl.acm.org/author_page.cfm?id=81100172373  with a span of 18 from/to: (1993, 2011)\n",
      "http://dl.acm.org/author_page.cfm?id=81100481185  with a span of 19 from/to: (1993, 2012)\n"
     ]
    }
   ],
   "source": [
    "# Extract out all the authors for each year\n",
    "#\n",
    "\n",
    "# year author dict\n",
    "ya = {}\n",
    "for spid in SPIDS:\n",
    "    spf = make_sp_name(spid)\n",
    "    authors = parse_out_authors(spf)\n",
    "    year = parse_out_year(spf)\n",
    "    ya[year] = authors\n",
    "        \n",
    "# author year dict\n",
    "au = {}    \n",
    "for year in ya:\n",
    "    for author in ya[year]:\n",
    "        if author in au:\n",
    "            yl = au[author]\n",
    "        else:\n",
    "            yl = []\n",
    "        yl.append(year)\n",
    "        au[author] = yl\n",
    "        \n",
    "# Print out the authors where the span is greater than 20 years\n",
    "        \n",
    "for author in au:\n",
    "    (ms,ys) = max_span(au[author])\n",
    "    if ms > 17:\n",
    "        print(\"http://dl.acm.org/{0}  with a span of {1} from/to: {2}\".format(author, ms, ys))\n",
    "        "
   ]
  },
  {
   "cell_type": "code",
   "execution_count": null,
   "metadata": {
    "collapsed": true
   },
   "outputs": [],
   "source": [
    "# Catherine Berrut 24 years (paper to poster)\n",
    "# Michael Nelson 18 years (paper to paper)"
   ]
  }
 ],
 "metadata": {
  "kernelspec": {
   "display_name": "Python 3",
   "language": "python",
   "name": "python3"
  },
  "language_info": {
   "codemirror_mode": {
    "name": "ipython",
    "version": 3
   },
   "file_extension": ".py",
   "mimetype": "text/x-python",
   "name": "python",
   "nbconvert_exporter": "python",
   "pygments_lexer": "ipython3",
   "version": "3.6.1"
  }
 },
 "nbformat": 4,
 "nbformat_minor": 2
}
