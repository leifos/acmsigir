{
 "cells": [
  {
   "cell_type": "markdown",
   "metadata": {},
   "source": [
    "## Scripts for Extracting and Proccessing the SIGIR data"
   ]
  },
  {
   "cell_type": "code",
   "execution_count": 32,
   "metadata": {
    "collapsed": true
   },
   "outputs": [],
   "source": [
    "import time\n",
    "import os.path\n",
    "from requests import get  # to make GET request\n",
    "\n",
    "\n",
    "def download(url, file_name):\n",
    "    # open in binary mode\n",
    "    headers={\n",
    "        'User-Agent': 'Mozilla/5.0 (Macintosh; Intel Mac OS X 10_9_3) AppleWebKit/537.36 (KHTML, like Gecko) Chrome/35.0.1916.47 Safari/537.36'\n",
    "    }\n",
    "    with open(file_name, \"wb\") as f:\n",
    "        # get request\n",
    "        response = get(url,headers=headers)\n",
    "        # write to file\n",
    "        f.write(response.content)\n",
    "        \n",
    "def make_sp_name(spid):\n",
    "    return \"data/sigir-{0}.html\".format(spid)\n",
    "\n",
    "def get_paper_id(paper_url):\n",
    "    i = paper_url.find('=')\n",
    "    j = paper_url.find('&',i)\n",
    "    pid = paper_url[i+1:j]\n",
    "    return pid"
   ]
  },
  {
   "cell_type": "markdown",
   "metadata": {},
   "source": [
    "## Download all the SIGIR proceedings HTML pages from ACM"
   ]
  },
  {
   "cell_type": "code",
   "execution_count": 275,
   "metadata": {},
   "outputs": [
    {
     "name": "stdout",
     "output_type": "stream",
     "text": [
      "data/sigir-800096.html\n",
      "data/sigir-511706.html\n",
      "data/sigir-636669.html\n",
      "data/sigir-511285.html\n",
      "data/sigir-511754.html\n",
      "data/sigir-636713.html\n",
      "data/sigir-511793.html\n",
      "data/sigir-636805.html\n",
      "data/sigir-253495.html\n",
      "data/sigir-253168.html\n",
      "data/sigir-42005.html\n",
      "data/sigir-62437.html\n",
      "data/sigir-96749.html\n",
      "data/sigir-75334.html\n",
      "data/sigir-122860.html\n",
      "data/sigir-133160.html\n",
      "data/sigir-160688.html\n",
      "data/sigir-188490.html\n",
      "data/sigir-215206.html\n",
      "data/sigir-243199.html\n",
      "data/sigir-258525.html\n",
      "data/sigir-290941.html\n",
      "data/sigir-564376.html\n",
      "data/sigir-383952.html\n",
      "data/sigir-345508.html\n",
      "data/sigir-312624.html\n",
      "data/sigir-290941.html\n",
      "data/sigir-860435.html\n",
      "data/sigir-1008992.html\n",
      "data/sigir-1076034.html\n",
      "data/sigir-1148170.html\n",
      "data/sigir-1277741.html\n",
      "data/sigir-1390334.html\n",
      "data/sigir-1571941.html\n",
      "data/sigir-1835449.html\n",
      "data/sigir-2009916.html\n",
      "data/sigir-2348283.html\n",
      "data/sigir-2484028.html\n",
      "data/sigir-2600428.html\n",
      "data/sigir-2766462.html\n",
      "data/sigir-2911451.html\n"
     ]
    }
   ],
   "source": [
    "# These are all the ids to SIGIR proceeings 1971 - 2017\n",
    "spids40 = ['800096','511706','636669','511285','511754','636713','511793','636805','253495','253168',\n",
    "         '42005','62437','96749','75334','122860','133160','160688','188490','215206','243199','258525','290941'\n",
    "        ,'564376','383952','345508','312624','290941','860435','1008992','1076034','1148170','1277741','1390334',\n",
    "         '1571941','1835449','2009916','2348283','2484028','2600428','2766462','2911451','3077136']\n",
    "\n",
    "spids = spids40\n",
    "\n",
    "spfiles = []\n",
    "\n",
    "# Only downloads pages that are not already/previously downloaded\n",
    "for spid in spids:\n",
    "    sigir_url = \"http://dl.acm.org/citation.cfm?id={0}&preflayout=flat\".format(spid)\n",
    "    sigir_head_file = make_sp_name(spid)\n",
    "    spfiles.append(sigir_head_file)\n",
    "    print(sigir_head_file)\n",
    "    if not os.path.isfile(sigir_head_file): \n",
    "        print(\"downloading \" + sigir_head_file)\n",
    "        download(sigir_url, sigir_head_file)\n",
    "        time.sleep(1)\n"
   ]
  },
  {
   "cell_type": "markdown",
   "metadata": {},
   "source": [
    "## Functions for extracting different pieces of data from the SIGIR pages"
   ]
  },
  {
   "cell_type": "code",
   "execution_count": 223,
   "metadata": {
    "collapsed": true
   },
   "outputs": [],
   "source": [
    "import re\n",
    "\n",
    "def extract_url(line):\n",
    "    i = line.find('citation.cfm')\n",
    "    j = line.find('\"',i+1)\n",
    "    url = line[i:j]\n",
    "    return url\n",
    "\n",
    "\n",
    "def remove_non_article_links(line, spid):\n",
    "    r = ['flat','tabs','prox']\n",
    "    r.append(spid)\n",
    "    \n",
    "    for w in r:\n",
    "        if line.find(w)>0:\n",
    "            line = \"\"\n",
    "    \n",
    "    return line\n",
    "\n",
    "def strip_cfs(line):\n",
    "    i = line.find(\"&CFID\")\n",
    "    sline = line[0:i+1]\n",
    "    return sline\n",
    "    \n",
    "\n",
    "def parse_out_papers(file_name,spid):\n",
    "    papers = []\n",
    "    with open(file_name, \"r\") as f:\n",
    "        line = f.readline()\n",
    "        while line:\n",
    "            if \"citation\" in line:\n",
    "                line = remove_non_article_links(line,spid)\n",
    "                line = strip_cfs(line)\n",
    "                url = extract_url(line)              \n",
    "                if url:\n",
    "                    papers.append('http://dl.acm.org/{0}{1}'.format(url,'&preflayout=flat'))\n",
    "            line = f.readline()\n",
    "            \n",
    "    return papers\n",
    "\n",
    "\n",
    "def extract_author_id(line):\n",
    "    i = line.find('author_page.cfm')\n",
    "    j = line.find('\"',i+1)\n",
    "    aid = line[i:j]\n",
    "    return aid\n",
    "\n",
    "def parse_out_authors(file_name):\n",
    "    authors = []\n",
    "    with open(file_name, \"r\") as f:\n",
    "        line = f.readline()\n",
    "        while line:\n",
    "            if \"author_page\" in line:\n",
    "                line = strip_cfs(line)\n",
    "                aid = extract_author_id(line)\n",
    "                if aid:\n",
    "                    authors.append(aid)\n",
    "            line = f.readline()\n",
    "            \n",
    "    return authors\n",
    "\n",
    "\n",
    "def parse_out_year(file_name):\n",
    "    year = 0\n",
    "    reyear = re.compile(r'\\d\\d\\d\\d Proceeding')\n",
    "    with open(file_name, \"r\") as f:\n",
    "        line = f.readline()\n",
    "        while line:\n",
    "            if \" Proceeding\" in line:\n",
    "                d = reyear.search(line)\n",
    "                if d:\n",
    "                    year = int(d.group()[0:4])\n",
    "                    break\n",
    "            line = f.readline()\n",
    "    return year\n"
   ]
  },
  {
   "cell_type": "markdown",
   "metadata": {},
   "source": [
    "## Calculate which authors had the greatest span between papers at SIGIR"
   ]
  },
  {
   "cell_type": "code",
   "execution_count": 265,
   "metadata": {},
   "outputs": [
    {
     "name": "stdout",
     "output_type": "stream",
     "text": [
      "author_page.cfm?id=81100409020 18 (1982, 2000)\n",
      "author_page.cfm?id=81100489485 19 (1981, 2000)\n",
      "author_page.cfm?id=81100038060 19 (1985, 2004)\n",
      "author_page.cfm?id=81100609693 24 (1989, 2013)\n",
      "author_page.cfm?id=81100172373 18 (1993, 2011)\n",
      "author_page.cfm?id=81100481185 19 (1993, 2012)\n"
     ]
    }
   ],
   "source": [
    "def max_span(year_list):\n",
    "    #finds the max span between years\n",
    "    max_span = 0\n",
    "    years = (0,0)\n",
    "    \n",
    "    if len(year_list) == 1:\n",
    "        return max_span, years\n",
    "    \n",
    "    prev_year = year_list[0]\n",
    "    for curr_year in year_list[1:]:\n",
    "        curr_span = curr_year-prev_year\n",
    "        if curr_span > max_span:\n",
    "            max_span = curr_span\n",
    "            years = (prev_year,curr_year)\n",
    "        prev_year = curr_year\n",
    "    \n",
    "    return max_span, years\n",
    "\n",
    "\n",
    "# year author dict\n",
    "ya = {}\n",
    "\n",
    "for spf in spfiles:\n",
    "    authors = parse_out_authors(spf)\n",
    "    year = parse_out_year(spf)\n",
    "    ya[year] = authors\n",
    "    #print(year, len(authors))\n",
    "    \n",
    "# author year dict\n",
    "au = {}    \n",
    "    \n",
    "for year in ya:\n",
    "    for author in ya[year]:\n",
    "        if author in au:\n",
    "            yl = au[author]\n",
    "        else:\n",
    "            yl = []\n",
    "        yl.append(year)\n",
    "        au[author] = yl\n",
    "        \n",
    "# Print out the authors where the span is greater than 20 years\n",
    "        \n",
    "for author in au:\n",
    "    (ms,ys) = max_span(au[author])\n",
    "    if ms > 17:\n",
    "        print(author, ms, ys)\n",
    "        \n"
   ]
  },
  {
   "cell_type": "code",
   "execution_count": 25,
   "metadata": {},
   "outputs": [
    {
     "name": "stdout",
     "output_type": "stream",
     "text": [
      "[1984, 2005]\n"
     ]
    }
   ],
   "source": [
    "print(au[\"author_page.cfm?id=81100618039\"])"
   ]
  },
  {
   "cell_type": "markdown",
   "metadata": {},
   "source": [
    "## Count how many references and how many citations each paper has"
   ]
  },
  {
   "cell_type": "code",
   "execution_count": 266,
   "metadata": {
    "collapsed": true
   },
   "outputs": [],
   "source": [
    "def count_references(file_name):\n",
    "    references = 0\n",
    "    citations = 0\n",
    "    year = 0\n",
    "    \n",
    "    redate = re.compile(r'\\d\\d\\d\\d Article')\n",
    "    \n",
    "    do_count = 0 # flag\n",
    "    \n",
    "    with open(file_name, \"r\") as f:\n",
    "        line = f.readline()\n",
    "        while line:\n",
    "            if \"REFERENCES\" in line:\n",
    "                do_count = 1\n",
    "            if (\"CITED BY\" in line): \n",
    "                do_count = 2\n",
    "            if (\"INDEX TERMS\" in line):\n",
    "                do_count = 0\n",
    "            \n",
    "            if do_count == 1:\n",
    "                if '\"abstract\"' in line:\n",
    "                    references += 1 \n",
    "            if do_count == 2:\n",
    "                a = '\"abstract\"'\n",
    "                if a in line:\n",
    "                    i = line.find(a)\n",
    "                    j = line.find(' ',i)\n",
    "                    c = line[i+len(a)+1:j+1]\n",
    "                                        \n",
    "                    citations = c.strip()\n",
    "                    do_count = 0\n",
    "                    \n",
    "            if \" Article\" in line:\n",
    "                d = redate.search(line)\n",
    "                if d:\n",
    "                    year = d.group()[0:4]\n",
    "                \n",
    "            line = f.readline()\n",
    "\n",
    "    if references > 0:\n",
    "        references = references -1\n",
    "    return [year, references, citations]"
   ]
  },
  {
   "cell_type": "code",
   "execution_count": 37,
   "metadata": {},
   "outputs": [
    {
     "data": {
      "text/plain": [
       "['2015', 23, '6']"
      ]
     },
     "execution_count": 37,
     "metadata": {},
     "output_type": "execute_result"
    }
   ],
   "source": [
    "# An example for paper id 2767723 - where it pulls out the year, and the references, and citations.\n",
    "count_references('data/2767723.html')\n"
   ]
  },
  {
   "cell_type": "code",
   "execution_count": 38,
   "metadata": {
    "collapsed": true
   },
   "outputs": [],
   "source": [
    "def extract_paper_authors(file_name):\n",
    "    \"\"\" extracts out the authors for a given paper.\n",
    "    returns a list of the co-authors\n",
    "    \"\"\"\n",
    "    authors = []\n",
    "    apc = 'author_page.cfm'\n",
    "    l = len(apc)\n",
    "    \n",
    "    do_count = 0\n",
    "    with open(file_name, \"r\") as f:\n",
    "        line = f.readline()\n",
    "        while line:\n",
    "            if \"Published in:\" in line:\n",
    "                break\n",
    "                \n",
    "            if \"Publication of\" in line:\n",
    "                break\n",
    "                \n",
    "            if \"author_page\" in line:\n",
    "                i = line.find(apc)\n",
    "                j = line.find('&',i+1)\n",
    "                aid = line[i+l+4:j]\n",
    "                #print(aid)\n",
    "                if aid:\n",
    "                    authors.append(aid)\n",
    "                \n",
    "            line = f.readline()\n",
    "    return authors"
   ]
  },
  {
   "cell_type": "code",
   "execution_count": 39,
   "metadata": {},
   "outputs": [
    {
     "name": "stdout",
     "output_type": "stream",
     "text": [
      "['81342491681', '81100007320', '81100426162', '81100575144', '81337491961', '81100485150', '81452611166']\n",
      "['81100183521', '81100503766']\n"
     ]
    }
   ],
   "source": [
    "a = extract_paper_authors('data/564499.html')\n",
    "print(a)\n",
    "a = extract_paper_authors('data/42021.html')\n",
    "print(a)\n",
    "\n"
   ]
  },
  {
   "cell_type": "code",
   "execution_count": 40,
   "metadata": {
    "collapsed": true
   },
   "outputs": [],
   "source": [
    "def make_node_list(authors):\n",
    "    x = []\n",
    "    y = []\n",
    "    for a in authors:\n",
    "        for b in authors:\n",
    "            if a != b:\n",
    "                x.append(a)\n",
    "                y.append(b)\n",
    "    print(x,y)\n",
    "                "
   ]
  },
  {
   "cell_type": "code",
   "execution_count": 92,
   "metadata": {},
   "outputs": [
    {
     "name": "stdout",
     "output_type": "stream",
     "text": [
      "['1', '1', '2', '2', '3', '3'] ['2', '3', '1', '3', '1', '2']\n"
     ]
    }
   ],
   "source": [
    "a = ['1','2','3']\n",
    "make_node_list(a)"
   ]
  },
  {
   "cell_type": "markdown",
   "metadata": {},
   "source": [
    "## for each proceedings html page, extract out all the papers"
   ]
  },
  {
   "cell_type": "code",
   "execution_count": 276,
   "metadata": {
    "collapsed": true
   },
   "outputs": [],
   "source": [
    "counts = []\n",
    "spc = []\n",
    "for spid in spids:\n",
    "    sigir_head_file = make_sp_name(spid)\n",
    "    papers = parse_out_papers(sigir_head_file, spid)\n",
    "    # for each paper in the proceedings, download the paper\n",
    "    for p in papers:\n",
    "        pid = get_paper_id(p)\n",
    "        paper_file = 'data/{0}.html'.format(pid)\n",
    "        \n",
    "        if not os.path.isfile(paper_file): \n",
    "            download(p, paper_file)\n",
    "            time.sleep(2)    \n",
    "        \n",
    "        [year, refs,cites] = count_references(paper_file)\n",
    "        counts.append([pid, year, refs, cites]) \n",
    "    \n",
    "    spc.append(len(papers))"
   ]
  },
  {
   "cell_type": "code",
   "execution_count": 268,
   "metadata": {
    "collapsed": true
   },
   "outputs": [],
   "source": [
    "# Save the counts data to file\n",
    "with open(\"counts.txt\", \"w\") as f:\n",
    "    for c in counts:\n",
    "        f.write(\"{0} {1} {2} {3}\\n\".format(c[0], c[1], c[2], c[3] ))\n"
   ]
  },
  {
   "cell_type": "code",
   "execution_count": 156,
   "metadata": {
    "collapsed": true
   },
   "outputs": [],
   "source": [
    "def compute_closest(mref, mcite, threshold):\n",
    "    \n",
    "    counts = []\n",
    "\n",
    "    with open(\"counts.txt\",'r') as f:\n",
    "        line = f.readline()\n",
    "        while line:\n",
    "            (spid, year, refs, cites) = line.split()\n",
    "            cites = int( cites.replace(',','') )\n",
    "            refs = int(refs)\n",
    "            score = ((refs-mref)*(refs-mref)) + ((cites-mcite)*(cites-mcite))\n",
    "            counts.append([spid, int(year), refs, cites, score])\n",
    "            if score < threshold:\n",
    "                print(\"paper id: {0} year: {1} refs: {2} cites: {3} score: {4}\".format( spid, year, refs, cites, score))\n",
    "                print(\"http://dl.acm.org/citation.cfm?id={0}\".format(spid))\n",
    "            line = f.readline()\n"
   ]
  },
  {
   "cell_type": "markdown",
   "metadata": {},
   "source": [
    "## Closest paper(s) to 40 refs and 40 cites"
   ]
  },
  {
   "cell_type": "code",
   "execution_count": 157,
   "metadata": {},
   "outputs": [
    {
     "name": "stdout",
     "output_type": "stream",
     "text": [
      "paper id: 98244 year: 1989 refs: 40 cites: 41 score: 1\n",
      "http://dl.acm.org/citation.cfm?id=98244\n",
      "paper id: 2009998 year: 2011 refs: 39 cites: 40 score: 1\n",
      "http://dl.acm.org/citation.cfm?id=2009998\n"
     ]
    }
   ],
   "source": [
    "compute_closest(40,40,10)"
   ]
  },
  {
   "cell_type": "markdown",
   "metadata": {},
   "source": []
  },
  {
   "cell_type": "code",
   "execution_count": 158,
   "metadata": {},
   "outputs": [
    {
     "name": "stdout",
     "output_type": "stream",
     "text": [
      "0            inf\n",
      "1    2005.398951\n",
      "2      16.851287\n",
      "3      19.669685\n",
      "dtype: float64\n"
     ]
    }
   ],
   "source": [
    "import pandas as pd\n",
    "import numpy as np\n",
    "import matplotlib.pyplot as plt\n",
    "% matplotlib inline\n",
    "plt.style.use('ggplot')\n",
    "\n",
    "counts = []\n",
    "\n",
    "with open(\"counts.txt\",'r') as f:\n",
    "    line = f.readline()\n",
    "    while line:\n",
    "        (spid, year, refs, cites) = line.split()\n",
    "        cites = int( cites.replace(',','') )\n",
    "        refs = int(refs)\n",
    "        counts.append([spid, int(year), refs, cites])\n",
    "        line = f.readline()\n",
    "\n",
    "df = pd.DataFrame(counts)\n",
    "m = df.mean()\n",
    "print(m)"
   ]
  },
  {
   "cell_type": "code",
   "execution_count": 159,
   "metadata": {},
   "outputs": [
    {
     "data": {
      "text/plain": [
       "4196"
      ]
     },
     "execution_count": 159,
     "metadata": {},
     "output_type": "execute_result"
    }
   ],
   "source": [
    "len(counts)"
   ]
  },
  {
   "cell_type": "markdown",
   "metadata": {},
   "source": [
    "## Closes paper(s) to the mean number of refs and mean number of cites"
   ]
  },
  {
   "cell_type": "code",
   "execution_count": 160,
   "metadata": {},
   "outputs": [
    {
     "name": "stdout",
     "output_type": "stream",
     "text": [
      "16.8512869399 19.6696854147\n"
     ]
    }
   ],
   "source": [
    "mref = m[2]\n",
    "mcite = m[3]\n",
    "print(mref,mcite)\n",
    "compute_closest(mref,mcite,0.3)"
   ]
  },
  {
   "cell_type": "markdown",
   "metadata": {},
   "source": [
    "## Random plots"
   ]
  },
  {
   "cell_type": "code",
   "execution_count": 46,
   "metadata": {},
   "outputs": [
    {
     "data": {
      "text/plain": [
       "<function matplotlib.pyplot.show>"
      ]
     },
     "execution_count": 46,
     "metadata": {},
     "output_type": "execute_result"
    },
    {
     "data": {
      "image/png": "[encoded data removed]",
      "text/plain": [
       "<matplotlib.figure.Figure at 0x11405b940>"
      ]
     },
     "metadata": {},
     "output_type": "display_data"
    }
   ],
   "source": [
    "#times = pd.DatetimeIndex(df[1])\n",
    "#grouped = df.groupby(df[1]).mean()\n",
    "plt.figure(figsize=(25,5))\n",
    "plt.plot(df[3])\n",
    "plt.show"
   ]
  },
  {
   "cell_type": "code",
   "execution_count": 39,
   "metadata": {},
   "outputs": [
    {
     "data": {
      "text/html": [
       "<div>\n",
       "<style>\n",
       "    .dataframe thead tr:only-child th {\n",
       "        text-align: right;\n",
       "    }\n",
       "\n",
       "    .dataframe thead th {\n",
       "        text-align: left;\n",
       "    }\n",
       "\n",
       "    .dataframe tbody tr th {\n",
       "        vertical-align: top;\n",
       "    }\n",
       "</style>\n",
       "<table border=\"1\" class=\"dataframe\">\n",
       "  <thead>\n",
       "    <tr style=\"text-align: right;\">\n",
       "      <th></th>\n",
       "      <th>0</th>\n",
       "      <th>1</th>\n",
       "      <th>2</th>\n",
       "      <th>3</th>\n",
       "      <th>4</th>\n",
       "    </tr>\n",
       "  </thead>\n",
       "  <tbody>\n",
       "    <tr>\n",
       "      <th>0</th>\n",
       "      <td>803132</td>\n",
       "      <td>1978</td>\n",
       "      <td>0</td>\n",
       "      <td>4</td>\n",
       "      <td>561.86</td>\n",
       "    </tr>\n",
       "    <tr>\n",
       "      <th>1</th>\n",
       "      <td>803133</td>\n",
       "      <td>1978</td>\n",
       "      <td>4</td>\n",
       "      <td>2</td>\n",
       "      <td>516.98</td>\n",
       "    </tr>\n",
       "    <tr>\n",
       "      <th>2</th>\n",
       "      <td>803134</td>\n",
       "      <td>1978</td>\n",
       "      <td>6</td>\n",
       "      <td>0</td>\n",
       "      <td>550.42</td>\n",
       "    </tr>\n",
       "    <tr>\n",
       "      <th>3</th>\n",
       "      <td>803135</td>\n",
       "      <td>1978</td>\n",
       "      <td>22</td>\n",
       "      <td>2</td>\n",
       "      <td>388.10</td>\n",
       "    </tr>\n",
       "    <tr>\n",
       "      <th>4</th>\n",
       "      <td>803136</td>\n",
       "      <td>1978</td>\n",
       "      <td>13</td>\n",
       "      <td>0</td>\n",
       "      <td>451.30</td>\n",
       "    </tr>\n",
       "  </tbody>\n",
       "</table>\n",
       "</div>"
      ],
      "text/plain": [
       "        0     1   2  3       4\n",
       "0  803132  1978   0  4  561.86\n",
       "1  803133  1978   4  2  516.98\n",
       "2  803134  1978   6  0  550.42\n",
       "3  803135  1978  22  2  388.10\n",
       "4  803136  1978  13  0  451.30"
      ]
     },
     "execution_count": 39,
     "metadata": {},
     "output_type": "execute_result"
    }
   ],
   "source": [
    "df.head()"
   ]
  },
  {
   "cell_type": "code",
   "execution_count": 60,
   "metadata": {
    "collapsed": true
   },
   "outputs": [],
   "source": [
    "times = pd.DatetimeIndex(df[1])\n",
    "grouped = df.groupby(df[1]).mean()"
   ]
  },
  {
   "cell_type": "code",
   "execution_count": 62,
   "metadata": {},
   "outputs": [
    {
     "data": {
      "text/plain": [
       "<function matplotlib.pyplot.show>"
      ]
     },
     "execution_count": 62,
     "metadata": {},
     "output_type": "execute_result"
    },
    {
     "data": {
      "image/png": "[encoded data removed]",
      "text/plain": [
       "<matplotlib.figure.Figure at 0x1155775f8>"
      ]
     },
     "metadata": {},
     "output_type": "display_data"
    }
   ],
   "source": [
    "plt.figure(figsize=(25,5))\n",
    "plt.plot(grouped[3])\n",
    "plt.xlim([1971,2017])\n",
    "plt.show"
   ]
  },
  {
   "cell_type": "code",
   "execution_count": 277,
   "metadata": {},
   "outputs": [
    {
     "name": "stdout",
     "output_type": "stream",
     "text": [
      "81328489030 8\n",
      "['636819', '253522', '253226', '75338', '122879', '243266', '258531', '564461']\n",
      "81339534035 10\n",
      "['253524', '253203', '160715', '188508', '291017', '383963', '291017', '1009121', '1572138', '2609524']\n",
      "81100362356 7\n",
      "['253221', '75343', '133202', '160754', '238480', '215372', '243325']\n",
      "81100193167 8\n",
      "['860529', '1148261', '1148322', '1277756', '1390454', '2348517', '2911492', '2914684']\n",
      "3941\n"
     ]
    }
   ],
   "source": [
    "\n",
    "pc = 0\n",
    "x = []\n",
    "y = []\n",
    "counts = {}\n",
    "solo_counts = {}\n",
    "solo_papers = {}\n",
    "for spid in spids:\n",
    "    sigir_head_file = make_sp_name(spid)\n",
    "    papers = parse_out_papers(sigir_head_file, spid)\n",
    "    # for each paper in the proceedings, download the paper\n",
    "    for p in papers:\n",
    "        pid = get_paper_id(p)\n",
    "        paper_file = 'data/{0}.html'.format(pid)\n",
    "        pc +=1 \n",
    "        authors = extract_paper_authors(paper_file)\n",
    "        \n",
    "        l = len(authors)\n",
    "        if l in counts:\n",
    "            counts[l] += 1\n",
    "        else:\n",
    "            counts[l] = 1\n",
    "        \n",
    "        if (len(authors)>1):\n",
    "             for a in authors:\n",
    "                for b in authors:\n",
    "                    if a != b:\n",
    "                        x.append(a)\n",
    "                        y.append(b)\n",
    "        elif (len(authors)==1):\n",
    "            a = authors[0]\n",
    "            if a in solo_counts:\n",
    "                solo_counts[a] += 1\n",
    "            else:\n",
    "                solo_counts[a] = 1\n",
    "\n",
    "            if a in solo_papers:\n",
    "                solo_papers[a].append(pid)\n",
    "            else:\n",
    "                solo_papers[a] = [pid]\n",
    "                \n",
    "\n",
    "#for c in counts:\n",
    "#    print(c, counts[c])\n",
    "            \n",
    "for a in solo_counts:\n",
    "    if solo_counts[a] > 6:\n",
    "        print(a, solo_counts[a])\n",
    "        print(solo_papers[a])\n",
    "\n",
    "\n",
    "with open(\"graph.txt\", \"w\") as f:\n",
    "    for i in range(0,len(x)):\n",
    "        f.write(\"{0} {1}\\n\".format(x[i], y[i] ))\n",
    "\n",
    "print(pc)"
   ]
  },
  {
   "cell_type": "code",
   "execution_count": 278,
   "metadata": {
    "collapsed": true
   },
   "outputs": [],
   "source": [
    "import networkx as nx\n",
    "G = nx.Graph()\n",
    "with open(\"graph.txt\",'r') as f:\n",
    "    line = f.readline()\n",
    "    while line:\n",
    "        (a,b) = line.split()\n",
    "        G.add_edge(a,b)\n",
    "        line = f.readline()\n",
    "\n",
    "#G.add_edge('81316487451','81100617179')\n",
    "#G.add_edge('81100617179','81316487451')\n",
    "\n",
    "#G.add_edge('81316487451','81100113287')\n",
    "#G.add_edge('81100113287','81316487451')\n",
    "\n"
   ]
  },
  {
   "cell_type": "code",
   "execution_count": 279,
   "metadata": {
    "collapsed": true
   },
   "outputs": [],
   "source": [
    "short = nx.shortest_path_length(G)"
   ]
  },
  {
   "cell_type": "code",
   "execution_count": 280,
   "metadata": {},
   "outputs": [
    {
     "name": "stdout",
     "output_type": "stream",
     "text": [
      "81100652508 3275 12385 3.781679389312977\n",
      "81363594457 3275 12398 3.785648854961832\n",
      "81100390699 3275 12359 3.773740458015267\n",
      "81100617179 3275 12288 3.75206106870229\n",
      "81100113287 3275 12339 3.7676335877862597\n"
     ]
    }
   ],
   "source": [
    "for key in short:\n",
    "    a = short[key]\n",
    "    sum = 0\n",
    "    if len(a) > 119:\n",
    "        for b in a:\n",
    "            sum += a[b]\n",
    "        m = float(sum)/float(len(a))\n",
    "        if m < 3.8:\n",
    "            print(key, len(a), sum, m)   "
   ]
  },
  {
   "cell_type": "code",
   "execution_count": null,
   "metadata": {
    "collapsed": true
   },
   "outputs": [],
   "source": [
    "Ryen White (3.75)\n",
    "Nick Craswell (3.76)\n",
    "Charlie Clarke (3.77)\n",
    "Bruce Croft (3.78)\n",
    "Jamie Callan (3.78)"
   ]
  },
  {
   "cell_type": "code",
   "execution_count": 167,
   "metadata": {},
   "outputs": [
    {
     "name": "stdout",
     "output_type": "stream",
     "text": [
      "4.660152671755725\n"
     ]
    }
   ],
   "source": [
    "#print(short['81100617179'])\n",
    "a =short['81100617179'] # Ryen White\n",
    "a = short['81100625548'] # Wensi Xi\n",
    "sum = 0\n",
    "for b in a:\n",
    "    sum += a[b]\n",
    "    m = float(sum)/float(len(a))\n",
    "print(m)"
   ]
  },
  {
   "cell_type": "code",
   "execution_count": 1,
   "metadata": {
    "scrolled": false
   },
   "outputs": [],
   "source": [
    "#print(short['81100617179'])"
   ]
  },
  {
   "cell_type": "code",
   "execution_count": 273,
   "metadata": {},
   "outputs": [
    {
     "data": {
      "text/plain": [
       "5073"
      ]
     },
     "execution_count": 273,
     "metadata": {},
     "output_type": "execute_result"
    }
   ],
   "source": [
    "len(short)"
   ]
  },
  {
   "cell_type": "code",
   "execution_count": 186,
   "metadata": {},
   "outputs": [
    {
     "data": {
      "image/png": "[encoded data removed]",
      "text/plain": [
       "<matplotlib.figure.Figure at 0x112c8abe0>"
      ]
     },
     "metadata": {},
     "output_type": "display_data"
    }
   ],
   "source": [
    "nx.draw_networkx(G)"
   ]
  },
  {
   "cell_type": "code",
   "execution_count": 187,
   "metadata": {},
   "outputs": [
    {
     "data": {
      "text/plain": [
       "<matplotlib.figure.Figure at 0x112bc44e0>"
      ]
     },
     "metadata": {},
     "output_type": "display_data"
    }
   ],
   "source": [
    "import matplotlib.pyplot as plt\n",
    "plt.draw()"
   ]
  },
  {
   "cell_type": "code",
   "execution_count": null,
   "metadata": {
    "collapsed": true
   },
   "outputs": [],
   "source": []
  }
 ],
 "metadata": {
  "kernelspec": {
   "display_name": "Python 3",
   "language": "python",
   "name": "python3"
  },
  "language_info": {
   "codemirror_mode": {
    "name": "ipython",
    "version": 3
   },
   "file_extension": ".py",
   "mimetype": "text/x-python",
   "name": "python",
   "nbconvert_exporter": "python",
   "pygments_lexer": "ipython3",
   "version": "3.6.1"
  }
 },
 "nbformat": 4,
 "nbformat_minor": 2
}
