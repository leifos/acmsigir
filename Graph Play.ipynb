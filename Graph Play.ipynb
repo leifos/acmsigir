{
 "cells": [
  {
   "cell_type": "code",
   "execution_count": 1,
   "metadata": {},
   "outputs": [
    {
     "name": "stdout",
     "output_type": "stream",
     "text": [
      "11\n",
      "{1: 2, 2: 2, 3: 1, 4: 1, 6: 2, 7: 3, 8: 2, 5: 1, 9: 2, 11: 1, 12: 1}\n"
     ]
    }
   ],
   "source": [
    "import networkx as nx\n",
    "\n",
    "T = nx.Graph()\n",
    "T.add_edge(1,2)\n",
    "T.add_edge(1,3)\n",
    "T.add_edge(2,4)\n",
    "T.add_edge(6,7)\n",
    "T.add_edge(7,8)\n",
    "T.add_edge(8,6)\n",
    "T.add_edge(5,7)\n",
    "T.add_edge(9,11)\n",
    "T.add_edge(9,12)\n",
    "\n",
    "#paths =nx.shortest_path(T,1,5)\n",
    "print(T.order())\n",
    "print(T.degree())\n",
    "\n",
    "paths = nx.all_pairs_shortest_path(T,3)\n"
   ]
  },
  {
   "cell_type": "code",
   "execution_count": null,
   "metadata": {
    "collapsed": true
   },
   "outputs": [],
   "source": [
    "print(paths)"
   ]
  },
  {
   "cell_type": "code",
   "execution_count": 2,
   "metadata": {},
   "outputs": [
    {
     "data": {
      "text/plain": [
       "{1: {1: 0, 2: 1, 3: 1, 4: 2},\n",
       " 2: {1: 1, 2: 0, 3: 2, 4: 1},\n",
       " 3: {1: 1, 2: 2, 3: 0, 4: 3},\n",
       " 4: {1: 2, 2: 1, 3: 3, 4: 0},\n",
       " 5: {5: 0, 6: 2, 7: 1, 8: 2},\n",
       " 6: {5: 2, 6: 0, 7: 1, 8: 1},\n",
       " 7: {5: 1, 6: 1, 7: 0, 8: 1},\n",
       " 8: {5: 2, 6: 1, 7: 1, 8: 0},\n",
       " 9: {9: 0, 11: 1, 12: 1},\n",
       " 11: {9: 1, 11: 0, 12: 2},\n",
       " 12: {9: 1, 11: 2, 12: 0}}"
      ]
     },
     "execution_count": 2,
     "metadata": {},
     "output_type": "execute_result"
    }
   ],
   "source": [
    "nx.shortest_path_length(T)"
   ]
  },
  {
   "cell_type": "code",
   "execution_count": null,
   "metadata": {
    "collapsed": true
   },
   "outputs": [],
   "source": []
  }
 ],
 "metadata": {
  "kernelspec": {
   "display_name": "Python 3",
   "language": "python",
   "name": "python3"
  },
  "language_info": {
   "codemirror_mode": {
    "name": "ipython",
    "version": 3
   },
   "file_extension": ".py",
   "mimetype": "text/x-python",
   "name": "python",
   "nbconvert_exporter": "python",
   "pygments_lexer": "ipython3",
   "version": "3.6.1"
  }
 },
 "nbformat": 4,
 "nbformat_minor": 2
}
