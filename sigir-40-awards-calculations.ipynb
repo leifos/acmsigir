{
 "cells": [
  {
   "cell_type": "markdown",
   "metadata": {},
   "source": [
    "## Scripts for Extracting and Proccessing the SIGIR data"
   ]
  },
  {
   "cell_type": "code",
   "execution_count": 2,
   "metadata": {
    "collapsed": true
   },
   "outputs": [],
   "source": [
    "import time\n",
    "import os.path\n",
    "from requests import get  # to make GET request\n",
    "\n",
    "\n",
    "def download(url, file_name):\n",
    "    # open in binary mode\n",
    "    headers={\n",
    "        'User-Agent': 'Mozilla/5.0 (Macintosh; Intel Mac OS X 10_9_3) AppleWebKit/537.36 (KHTML, like Gecko) Chrome/35.0.1916.47 Safari/537.36'\n",
    "    }\n",
    "    with open(file_name, \"wb\") as f:\n",
    "        # get request\n",
    "        response = get(url,headers=headers)\n",
    "        # write to file\n",
    "        f.write(response.content)\n",
    "        \n",
    "def make_sp_name(spid):\n",
    "    return \"data/sigir-{0}.html\".format(spid)\n",
    "\n",
    "def get_paper_id(paper_url):\n",
    "    i = paper_url.find('=')\n",
    "    j = paper_url.find('&',i)\n",
    "    pid = paper_url[i+1:j]\n",
    "    return pid"
   ]
  },
  {
   "cell_type": "markdown",
   "metadata": {},
   "source": [
    "## Download all the SIGIR proceedings HTML pages from ACM"
   ]
  },
  {
   "cell_type": "code",
   "execution_count": 3,
   "metadata": {},
   "outputs": [],
   "source": [
    "# These are all the ids to SIGIR proceedings from 1971 to 2016\n",
    "spids = ['800096','511706','636669','511285','511754','636713','511793','636805','253495','253168',\n",
    "         '42005','62437','96749','75334','122860','133160','160688','188490','215206','243199','258525','290941'\n",
    "        ,'564376','383952','345508','312624','290941','860435','1008992','1076034','1148170','1277741','1390334',\n",
    "         '1571941','1835449','2009916','2348283','2484028','2600428','2766462','2911451']\n",
    "\n",
    "spfiles = []\n",
    "\n",
    "spid = '2911451'\n",
    "\n",
    "# Only downloads pages that are not already/previously downloaded\n",
    "for spid in spids:\n",
    "    sigir_url = \"http://dl.acm.org/citation.cfm?id={0}&preflayout=flat\".format(spid)\n",
    "    sigir_head_file = make_sp_name(spid)\n",
    "    spfiles.append(sigir_head_file)\n",
    "    if not os.path.isfile(sigir_head_file): \n",
    "        download(sigir_url, sigir_head_file)\n",
    "        time.sleep(1)\n"
   ]
  },
  {
   "cell_type": "markdown",
   "metadata": {},
   "source": [
    "## Functions for extracting different pieces of data from the SIGIR pages"
   ]
  },
  {
   "cell_type": "code",
   "execution_count": 14,
   "metadata": {
    "collapsed": true
   },
   "outputs": [],
   "source": [
    "import re\n",
    "\n",
    "def extract_url(line):\n",
    "    i = line.find('citation.cfm')\n",
    "    j = line.find('\"',i+1)\n",
    "    url = line[i:j]\n",
    "    return url\n",
    "\n",
    "\n",
    "def remove_non_article_links(line, spid):\n",
    "    r = ['flat','tabs','prox']\n",
    "    r.append(spid)\n",
    "    \n",
    "    for w in r:\n",
    "        if line.find(w)>0:\n",
    "            line = \"\"\n",
    "    \n",
    "    return line\n",
    "\n",
    "def strip_cfs(line):\n",
    "    i = line.find(\"&CFID\")\n",
    "    sline = line[0:i+1]\n",
    "    return sline\n",
    "    \n",
    "\n",
    "def parse_out_papers(file_name,spid):\n",
    "    papers = []\n",
    "    with open(file_name, \"r\") as f:\n",
    "        line = f.readline()\n",
    "        while line:\n",
    "            if \"citation\" in line:\n",
    "                line = remove_non_article_links(line,spid)\n",
    "                line = strip_cfs(line)\n",
    "                url = extract_url(line)              \n",
    "                if url:\n",
    "                    papers.append('http://dl.acm.org/{0}{1}'.format(url,'&preflayout=flat'))\n",
    "            line = f.readline()\n",
    "            \n",
    "    return papers\n",
    "\n",
    "\n",
    "def extract_author_id(line):\n",
    "    i = line.find('author_page.cfm')\n",
    "    j = line.find('\"',i+1)\n",
    "    aid = line[i:j]\n",
    "    return aid\n",
    "\n",
    "def parse_out_authors(file_name):\n",
    "    authors = []\n",
    "    with open(file_name, \"r\") as f:\n",
    "        line = f.readline()\n",
    "        while line:\n",
    "            if \"author_page\" in line:\n",
    "                line = strip_cfs(line)\n",
    "                aid = extract_author_id(line)              \n",
    "                if aid:\n",
    "                    authors.append(aid)\n",
    "            line = f.readline()\n",
    "            \n",
    "    return authors\n",
    "\n",
    "\n",
    "def parse_out_year(file_name):\n",
    "    year = 0\n",
    "    reyear = re.compile(r'\\d\\d\\d\\d Proceeding')\n",
    "    with open(file_name, \"r\") as f:\n",
    "        line = f.readline()\n",
    "        while line:\n",
    "            if \" Proceeding\" in line:\n",
    "                d = reyear.search(line)\n",
    "                if d:\n",
    "                    year = int(d.group()[0:4])\n",
    "                    break\n",
    "            line = f.readline()\n",
    "    return year\n"
   ]
  },
  {
   "cell_type": "markdown",
   "metadata": {},
   "source": [
    "## Calculate which authors had the greatest span between papers at SIGIR"
   ]
  },
  {
   "cell_type": "code",
   "execution_count": 38,
   "metadata": {},
   "outputs": [
    {
     "name": "stdout",
     "output_type": "stream",
     "text": [
      "5345\n",
      "author_page.cfm?id=81100618039 21 (1984, 2005)\n",
      "author_page.cfm?id=81100609693 24 (1989, 2013)\n"
     ]
    }
   ],
   "source": [
    "def max_span(year_list):\n",
    "    #finds the max span between years\n",
    "    max_span = 0\n",
    "    years = (0,0)\n",
    "    \n",
    "    if len(year_list) == 1:\n",
    "        return max_span, years\n",
    "    \n",
    "    prev_year = year_list[0]\n",
    "    for curr_year in year_list[1:]:\n",
    "        curr_span = curr_year-prev_year\n",
    "        if curr_span > max_span:\n",
    "            max_span = curr_span\n",
    "            years = (prev_year,curr_year)\n",
    "        prev_year = curr_year\n",
    "    \n",
    "    return max_span, years\n",
    "\n",
    "\n",
    "# year author dict\n",
    "ya = {}\n",
    "\n",
    "for spf in spfiles:\n",
    "    authors = parse_out_authors(spf)\n",
    "    year = parse_out_year(spf)\n",
    "    ya[year] = authors\n",
    "    #print(year, len(authors))\n",
    "    \n",
    "# author year dict\n",
    "au = {}    \n",
    "    \n",
    "for year in ya:\n",
    "    for author in ya[year]:\n",
    "        if author in au:\n",
    "            yl = au[author]\n",
    "        else:\n",
    "            yl = []\n",
    "        yl.append(year)\n",
    "        au[author] = yl\n",
    "        \n",
    "# Print out the authors where the span is greater than 20 years\n",
    "        \n",
    "for author in au:\n",
    "    (ms,ys) = max_span(au[author])\n",
    "    if ms > 20:\n",
    "        print(author, ms, ys)\n",
    "        \n"
   ]
  },
  {
   "cell_type": "markdown",
   "metadata": {},
   "source": [
    "## Count how many references and how many citations each paper has"
   ]
  },
  {
   "cell_type": "code",
   "execution_count": 31,
   "metadata": {
    "collapsed": true
   },
   "outputs": [],
   "source": [
    "def count_references(file_name):\n",
    "    references = 0\n",
    "    citations = 0\n",
    "    year = 0\n",
    "    \n",
    "    redate = re.compile(r'\\d\\d\\d\\d Article')\n",
    "    \n",
    "    do_count = 0 # flag\n",
    "    \n",
    "    with open(file_name, \"r\") as f:\n",
    "        line = f.readline()\n",
    "        while line:\n",
    "            if \"REFERENCES\" in line:\n",
    "                do_count = 1\n",
    "            if (\"CITED BY\" in line): \n",
    "                do_count = 2\n",
    "            if (\"INDEX TERMS\" in line):\n",
    "                do_count = 0\n",
    "            \n",
    "            if do_count == 1:\n",
    "                if '\"abstract\"' in line:\n",
    "                    references += 1 \n",
    "            if do_count == 2:\n",
    "                a = '\"abstract\"'\n",
    "                if a in line:\n",
    "                    i = line.find(a)\n",
    "                    j = line.find(' ',i)\n",
    "                    c = line[i+len(a)+1:j+1]\n",
    "                                        \n",
    "                    citations = c.strip()\n",
    "                    do_count = 0\n",
    "                    \n",
    "            if \" Article\" in line:\n",
    "                d = redate.search(line)\n",
    "                if d:\n",
    "                    year = d.group()[0:4]\n",
    "                \n",
    "            line = f.readline()\n",
    "\n",
    "    if references > 0:\n",
    "        references = references -1\n",
    "    return [year, references, citations]"
   ]
  },
  {
   "cell_type": "code",
   "execution_count": 32,
   "metadata": {},
   "outputs": [
    {
     "data": {
      "text/plain": [
       "['2015', 23, '6']"
      ]
     },
     "execution_count": 32,
     "metadata": {},
     "output_type": "execute_result"
    }
   ],
   "source": [
    "# An example for paper id 2767723 - where it pulls out the year, and the references, and citations.\n",
    "count_references('data/2767723.html')"
   ]
  },
  {
   "cell_type": "markdown",
   "metadata": {},
   "source": [
    "## for each proceedings html page, extract out all the papers"
   ]
  },
  {
   "cell_type": "code",
   "execution_count": 33,
   "metadata": {},
   "outputs": [],
   "source": [
    "counts = []\n",
    "spc = []\n",
    "for spid in spids:\n",
    "    sigir_head_file = make_sp_name(spid)\n",
    "    papers = parse_out_papers(sigir_head_file, spid)\n",
    "    # for each paper in the proceedings, download the paper\n",
    "    for p in papers:\n",
    "        pid = get_paper_id(p)\n",
    "        paper_file = 'data/{0}.html'.format(pid)\n",
    "        \n",
    "        if not os.path.isfile(paper_file): \n",
    "            download(p, paper_file)\n",
    "            time.sleep(2)    \n",
    "        \n",
    "        [year, refs,cites] = count_references(paper_file)\n",
    "        counts.append([pid, year, refs, cites]) \n",
    "    \n",
    "    spc.append(len(papers))\n"
   ]
  },
  {
   "cell_type": "code",
   "execution_count": 45,
   "metadata": {
    "collapsed": true
   },
   "outputs": [],
   "source": [
    "# Save the counts data to file\n",
    "with open(\"counts.txt\", \"w\") as f:\n",
    "    for c in counts:\n",
    "        f.write(\"{0} {1} {2} {3}\\n\".format(c[0], c[1], c[2], c[3] ))\n"
   ]
  },
  {
   "cell_type": "code",
   "execution_count": 34,
   "metadata": {},
   "outputs": [],
   "source": [
    "def compute_closest(mref, mcite, threshold):\n",
    "    \n",
    "    counts = []\n",
    "\n",
    "    with open(\"counts.txt\",'r') as f:\n",
    "        line = f.readline()\n",
    "        while line:\n",
    "            (spid, year, refs, cites) = line.split()\n",
    "            cites = int( cites.replace(',','') )\n",
    "            refs = int(refs)\n",
    "            score = ((refs-mref)*(refs-mref)) + ((cites-mcite)*(cites-mcite))\n",
    "            counts.append([spid, int(year), refs, cites, score])\n",
    "            if score < threshold:\n",
    "                print(\"paper id: {0} year: {1} refs: {2} cites: {3} score: {4}\".format( spid, year, refs, cites, score))\n",
    "                print(\"http://dl.acm.org/citation.cfm?id={0}\".format(spid))\n",
    "            line = f.readline()\n"
   ]
  },
  {
   "cell_type": "markdown",
   "metadata": {},
   "source": [
    "## Closest paper(s) to 40 refs and 40 cites"
   ]
  },
  {
   "cell_type": "code",
   "execution_count": 35,
   "metadata": {},
   "outputs": [
    {
     "name": "stdout",
     "output_type": "stream",
     "text": [
      "paper id: 98244 year: 1989 refs: 40 cites: 41 score: 1\n",
      "http://dl.acm.org/citation.cfm?id=98244\n",
      "paper id: 2009998 year: 2011 refs: 39 cites: 40 score: 1\n",
      "http://dl.acm.org/citation.cfm?id=2009998\n"
     ]
    }
   ],
   "source": [
    "compute_closest(40,40,10)"
   ]
  },
  {
   "cell_type": "markdown",
   "metadata": {},
   "source": []
  },
  {
   "cell_type": "code",
   "execution_count": 20,
   "metadata": {},
   "outputs": [
    {
     "name": "stdout",
     "output_type": "stream",
     "text": [
      "0            inf\n",
      "1    2004.648313\n",
      "2      16.583354\n",
      "3      20.941893\n",
      "dtype: float64\n"
     ]
    }
   ],
   "source": [
    "import pandas as pd\n",
    "import numpy as np\n",
    "import matplotlib.pyplot as plt\n",
    "% matplotlib inline\n",
    "plt.style.use('ggplot')\n",
    "\n",
    "counts = []\n",
    "\n",
    "with open(\"counts.txt\",'r') as f:\n",
    "    line = f.readline()\n",
    "    while line:\n",
    "        (spid, year, refs, cites) = line.split()\n",
    "        cites = int( cites.replace(',','') )\n",
    "        refs = int(refs)\n",
    "        counts.append([spid, int(year), refs, cites])\n",
    "        line = f.readline()\n",
    "\n",
    "df = pd.DataFrame(counts)\n",
    "m = df.mean()\n",
    "print(m)"
   ]
  },
  {
   "cell_type": "markdown",
   "metadata": {},
   "source": [
    "## Closes paper(s) to the mean number of refs and mean number of cites"
   ]
  },
  {
   "cell_type": "code",
   "execution_count": 36,
   "metadata": {},
   "outputs": [
    {
     "name": "stdout",
     "output_type": "stream",
     "text": [
      "16.5833544786 20.9418929206\n",
      "paper id: 345562 year: 2000 refs: 17 cites: 21 score: 0.17696992321594995\n",
      "http://dl.acm.org/citation.cfm?id=345562\n",
      "paper id: 1076072 year: 2005 refs: 17 cites: 21 score: 0.17696992321594995\n",
      "http://dl.acm.org/citation.cfm?id=1076072\n",
      "paper id: 1148233 year: 2006 refs: 17 cites: 21 score: 0.17696992321594995\n",
      "http://dl.acm.org/citation.cfm?id=1148233\n"
     ]
    }
   ],
   "source": [
    "mref = m[2]\n",
    "mcite = m[3]\n",
    "print(mref,mcite)\n",
    "compute_closest(mref,mcite,0.3)"
   ]
  },
  {
   "cell_type": "markdown",
   "metadata": {},
   "source": [
    "## Random plots"
   ]
  },
  {
   "cell_type": "code",
   "execution_count": 46,
   "metadata": {},
   "outputs": [
    {
     "data": {
      "text/plain": [
       "<function matplotlib.pyplot.show>"
      ]
     },
     "execution_count": 46,
     "metadata": {},
     "output_type": "execute_result"
    },
    {
     "data": {
      "image/png": "[encoded data removed]",
      "text/plain": [
       "<matplotlib.figure.Figure at 0x11405b940>"
      ]
     },
     "metadata": {},
     "output_type": "display_data"
    }
   ],
   "source": [
    "#times = pd.DatetimeIndex(df[1])\n",
    "#grouped = df.groupby(df[1]).mean()\n",
    "plt.figure(figsize=(25,5))\n",
    "plt.plot(df[3])\n",
    "plt.show"
   ]
  },
  {
   "cell_type": "code",
   "execution_count": 39,
   "metadata": {},
   "outputs": [
    {
     "data": {
      "text/html": [
       "<div>\n",
       "<style>\n",
       "    .dataframe thead tr:only-child th {\n",
       "        text-align: right;\n",
       "    }\n",
       "\n",
       "    .dataframe thead th {\n",
       "        text-align: left;\n",
       "    }\n",
       "\n",
       "    .dataframe tbody tr th {\n",
       "        vertical-align: top;\n",
       "    }\n",
       "</style>\n",
       "<table border=\"1\" class=\"dataframe\">\n",
       "  <thead>\n",
       "    <tr style=\"text-align: right;\">\n",
       "      <th></th>\n",
       "      <th>0</th>\n",
       "      <th>1</th>\n",
       "      <th>2</th>\n",
       "      <th>3</th>\n",
       "      <th>4</th>\n",
       "    </tr>\n",
       "  </thead>\n",
       "  <tbody>\n",
       "    <tr>\n",
       "      <th>0</th>\n",
       "      <td>803132</td>\n",
       "      <td>1978</td>\n",
       "      <td>0</td>\n",
       "      <td>4</td>\n",
       "      <td>561.86</td>\n",
       "    </tr>\n",
       "    <tr>\n",
       "      <th>1</th>\n",
       "      <td>803133</td>\n",
       "      <td>1978</td>\n",
       "      <td>4</td>\n",
       "      <td>2</td>\n",
       "      <td>516.98</td>\n",
       "    </tr>\n",
       "    <tr>\n",
       "      <th>2</th>\n",
       "      <td>803134</td>\n",
       "      <td>1978</td>\n",
       "      <td>6</td>\n",
       "      <td>0</td>\n",
       "      <td>550.42</td>\n",
       "    </tr>\n",
       "    <tr>\n",
       "      <th>3</th>\n",
       "      <td>803135</td>\n",
       "      <td>1978</td>\n",
       "      <td>22</td>\n",
       "      <td>2</td>\n",
       "      <td>388.10</td>\n",
       "    </tr>\n",
       "    <tr>\n",
       "      <th>4</th>\n",
       "      <td>803136</td>\n",
       "      <td>1978</td>\n",
       "      <td>13</td>\n",
       "      <td>0</td>\n",
       "      <td>451.30</td>\n",
       "    </tr>\n",
       "  </tbody>\n",
       "</table>\n",
       "</div>"
      ],
      "text/plain": [
       "        0     1   2  3       4\n",
       "0  803132  1978   0  4  561.86\n",
       "1  803133  1978   4  2  516.98\n",
       "2  803134  1978   6  0  550.42\n",
       "3  803135  1978  22  2  388.10\n",
       "4  803136  1978  13  0  451.30"
      ]
     },
     "execution_count": 39,
     "metadata": {},
     "output_type": "execute_result"
    }
   ],
   "source": [
    "df.head()"
   ]
  },
  {
   "cell_type": "code",
   "execution_count": 60,
   "metadata": {
    "collapsed": true
   },
   "outputs": [],
   "source": [
    "times = pd.DatetimeIndex(df[1])\n",
    "grouped = df.groupby(df[1]).mean()"
   ]
  },
  {
   "cell_type": "code",
   "execution_count": 61,
   "metadata": {},
   "outputs": [
    {
     "name": "stdout",
     "output_type": "stream",
     "text": [
      "              2          3             4\n",
      "1                                       \n",
      "0      0.000000   0.000000    713.380000\n",
      "1971  16.947368   2.736842    481.312632\n",
      "1978   6.266667   1.133333    551.513333\n",
      "1979   9.071429   2.428571    482.934286\n",
      "1980  23.708333   8.416667   1507.263333\n",
      "1981  12.523810   3.000000    442.926667\n",
      "1982  14.714286   3.428571    487.437143\n",
      "1983  14.964286   3.392857    532.214286\n",
      "1984  14.925926   1.629630    526.076296\n",
      "1985  15.187500  11.468750    935.170000\n",
      "1986  19.057143  10.142857    400.605143\n",
      "1987  18.757576   5.575758    458.805455\n",
      "1988  17.955556  10.511111    610.412889\n",
      "1989  20.464286  13.910714    524.935714\n",
      "1991  20.000000  17.514286    747.396000\n",
      "1992  20.060606  45.454545   8314.836970\n",
      "1993  15.883721  40.813953   3802.736279\n",
      "1994  17.621622  70.243243  10310.043784\n",
      "1995  19.804878  43.682927   5217.819024\n",
      "1996  12.723077  38.676923   7479.985538\n",
      "1997  19.475000  37.050000   2504.110000\n",
      "1998  13.729730  64.851351  21870.357297\n",
      "1999  12.329268  58.951220  30018.798537\n",
      "2000  14.551282  40.782051   6210.881538\n",
      "2001  13.591398  52.677419   9619.709462\n",
      "2002  13.982609  28.608696   2849.271478\n",
      "2003  12.633929  37.178571   5002.677143\n",
      "2004  12.069444  28.173611   2553.114444\n",
      "2005  13.250000  29.535714   3217.254286\n",
      "2006  22.018519  42.123457   7646.973580\n",
      "2007  12.120536  21.678571   1286.149286\n",
      "2008  13.454545  20.708134   1259.855789\n",
      "2009  12.771845  15.063107    801.915922\n",
      "2010  12.880184  11.778802    515.377788\n",
      "2011  28.540650  12.532520   3920.996260\n",
      "2012  18.618421   7.894737    830.515088\n",
      "2013  17.476190   5.966667    477.742667\n",
      "2014  18.298246   4.302632    510.929123\n",
      "2015  19.230000   2.460000    566.288400\n",
      "2016  19.128205   0.457265    624.173504\n"
     ]
    }
   ],
   "source": [
    "print(grouped)"
   ]
  },
  {
   "cell_type": "code",
   "execution_count": 62,
   "metadata": {},
   "outputs": [
    {
     "data": {
      "text/plain": [
       "<function matplotlib.pyplot.show>"
      ]
     },
     "execution_count": 62,
     "metadata": {},
     "output_type": "execute_result"
    },
    {
     "data": {
      "image/png": "[encoded data removed]",
      "text/plain": [
       "<matplotlib.figure.Figure at 0x1155775f8>"
      ]
     },
     "metadata": {},
     "output_type": "display_data"
    }
   ],
   "source": [
    "plt.figure(figsize=(25,5))\n",
    "plt.plot(grouped[3])\n",
    "plt.xlim([1971,2017])\n",
    "plt.show"
   ]
  },
  {
   "cell_type": "code",
   "execution_count": null,
   "metadata": {
    "collapsed": true
   },
   "outputs": [],
   "source": []
  }
 ],
 "metadata": {
  "kernelspec": {
   "display_name": "Python 3",
   "language": "python",
   "name": "python3"
  },
  "language_info": {
   "codemirror_mode": {
    "name": "ipython",
    "version": 3
   },
   "file_extension": ".py",
   "mimetype": "text/x-python",
   "name": "python",
   "nbconvert_exporter": "python",
   "pygments_lexer": "ipython3",
   "version": "3.6.1"
  }
 },
 "nbformat": 4,
 "nbformat_minor": 2
}
